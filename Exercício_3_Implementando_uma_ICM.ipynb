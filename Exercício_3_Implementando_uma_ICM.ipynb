{
  "nbformat": 4,
  "nbformat_minor": 0,
  "metadata": {
    "colab": {
      "provenance": [],
      "include_colab_link": true
    },
    "kernelspec": {
      "name": "python3",
      "display_name": "Python 3"
    },
    "language_info": {
      "name": "python"
    }
  },
  "cells": [
    {
      "cell_type": "markdown",
      "metadata": {
        "id": "view-in-github",
        "colab_type": "text"
      },
      "source": [
        "<a href=\"https://colab.research.google.com/github/seidikun/nivelamento-icm/blob/main/Exerc%C3%ADcio_3_Implementando_uma_ICM.ipynb\" target=\"_parent\"><img src=\"https://colab.research.google.com/assets/colab-badge.svg\" alt=\"Open In Colab\"/></a>"
      ]
    },
    {
      "cell_type": "markdown",
      "source": [
        "Objetivo: construir um procesamento para reconhecimento de olhos abertos vs olhos fechados em sinal EEG"
      ],
      "metadata": {
        "id": "Z86pPPdvNJEh"
      }
    },
    {
      "cell_type": "code",
      "source": [
        "from google.colab import drive\n",
        "drive.mount('/content/drive')"
      ],
      "metadata": {
        "colab": {
          "base_uri": "https://localhost:8080/"
        },
        "id": "4T43QvHsMgFZ",
        "outputId": "0c5ab012-93da-4634-8edc-ef7d12ed30bd"
      },
      "execution_count": null,
      "outputs": [
        {
          "output_type": "stream",
          "name": "stdout",
          "text": [
            "Mounted at /content/drive\n"
          ]
        }
      ]
    },
    {
      "cell_type": "markdown",
      "source": [
        "1. Abrir arquivo\n",
        "2. Pre-processamento (re-referenciar, filtrar, epocar, etc)\n",
        "3. Extrair caracteristicas\n",
        "4. Instanciar um modelo de ML"
      ],
      "metadata": {
        "id": "hQnCUP8PPEUb"
      }
    },
    {
      "cell_type": "code",
      "source": [
        "import pandas as pd\n",
        "import numpy as np"
      ],
      "metadata": {
        "id": "ICLjeV2FWLwl"
      },
      "execution_count": null,
      "outputs": []
    },
    {
      "cell_type": "markdown",
      "source": [
        "# Abrindo o dado"
      ],
      "metadata": {
        "id": "fT1r1CyHWJgw"
      }
    },
    {
      "cell_type": "code",
      "source": [
        "pasta_dados = '/content/drive/Shareddrives/Grupo Ada/🧠 PROJETOS/🦾🧠 ICM com treino zero/Dados/Coleta/Coleta 09 08/'\n",
        "arquivo     = 'open and close'\n",
        "\n",
        "df_eyes = pd.read_csv(pasta_dados + arquivo)"
      ],
      "metadata": {
        "id": "6oncQsBxQBQv"
      },
      "execution_count": null,
      "outputs": []
    },
    {
      "cell_type": "code",
      "source": [
        "df_eyes.head()"
      ],
      "metadata": {
        "colab": {
          "base_uri": "https://localhost:8080/",
          "height": 272
        },
        "id": "we1URv0DQefU",
        "outputId": "30e77534-c6ce-481e-cd9f-7b7731280a63"
      },
      "execution_count": null,
      "outputs": [
        {
          "output_type": "execute_result",
          "data": {
            "text/plain": [
              "   Time:512Hz  Epoch           FP1           FP2            F3            Fz  \\\n",
              "0    0.000000      0  27133.742188  19073.292969  23559.962891  10953.663086   \n",
              "1    0.001953      0  27134.962891  19064.503906  23557.130859  10950.245117   \n",
              "2    0.003906      0  27137.355469  19068.068359  23558.058594  10951.954102   \n",
              "3    0.005859      0  27137.404297  19064.259766  23555.714844  10945.850586   \n",
              "4    0.007812      0  27136.183594  19072.853516  23562.160156  10953.125977   \n",
              "\n",
              "            T7            C3            Cz           P3  ...          Oz  \\\n",
              "0 -2536.377197  25672.707031  15310.254883  3130.957275  ... -898.730530   \n",
              "1 -2538.720947  25672.853516  15310.938477  3128.662354  ... -896.093811   \n",
              "2 -2545.508057  25674.220703  15308.155273  3131.592041  ... -898.828186   \n",
              "3 -2545.508057  25674.904297  15309.327148  3129.297119  ... -900.439514   \n",
              "4 -2543.701416  25672.902344  15308.985352  3129.443604  ... -898.242249   \n",
              "\n",
              "            O2            Pz          P4            C4            F4  \\\n",
              "0 -6388.867676  10216.211914  202.099625  12865.381836  14929.444336   \n",
              "1 -6385.352051  10215.577148  204.541031  12861.622070  14928.418945   \n",
              "2 -6385.010254  10216.993164  199.902359  12861.573242  14924.268555   \n",
              "3 -6387.354004  10214.063477  203.417984  12860.108398  14923.340820   \n",
              "4 -6382.959473  10217.383789  204.394547  12865.381836  14922.754883   \n",
              "\n",
              "             T8  Event Id  Event Date  Event Duration  \n",
              "0  10565.430664       NaN         NaN             NaN  \n",
              "1  10570.801758       NaN         NaN             NaN  \n",
              "2  10553.711914       NaN         NaN             NaN  \n",
              "3  10534.327148       NaN         NaN             NaN  \n",
              "4  10551.319336       NaN         NaN             NaN  \n",
              "\n",
              "[5 rows x 21 columns]"
            ],
            "text/html": [
              "\n",
              "  <div id=\"df-e1a56fe9-4fd3-41aa-b019-f916eb3cb361\" class=\"colab-df-container\">\n",
              "    <div>\n",
              "<style scoped>\n",
              "    .dataframe tbody tr th:only-of-type {\n",
              "        vertical-align: middle;\n",
              "    }\n",
              "\n",
              "    .dataframe tbody tr th {\n",
              "        vertical-align: top;\n",
              "    }\n",
              "\n",
              "    .dataframe thead th {\n",
              "        text-align: right;\n",
              "    }\n",
              "</style>\n",
              "<table border=\"1\" class=\"dataframe\">\n",
              "  <thead>\n",
              "    <tr style=\"text-align: right;\">\n",
              "      <th></th>\n",
              "      <th>Time:512Hz</th>\n",
              "      <th>Epoch</th>\n",
              "      <th>FP1</th>\n",
              "      <th>FP2</th>\n",
              "      <th>F3</th>\n",
              "      <th>Fz</th>\n",
              "      <th>T7</th>\n",
              "      <th>C3</th>\n",
              "      <th>Cz</th>\n",
              "      <th>P3</th>\n",
              "      <th>...</th>\n",
              "      <th>Oz</th>\n",
              "      <th>O2</th>\n",
              "      <th>Pz</th>\n",
              "      <th>P4</th>\n",
              "      <th>C4</th>\n",
              "      <th>F4</th>\n",
              "      <th>T8</th>\n",
              "      <th>Event Id</th>\n",
              "      <th>Event Date</th>\n",
              "      <th>Event Duration</th>\n",
              "    </tr>\n",
              "  </thead>\n",
              "  <tbody>\n",
              "    <tr>\n",
              "      <th>0</th>\n",
              "      <td>0.000000</td>\n",
              "      <td>0</td>\n",
              "      <td>27133.742188</td>\n",
              "      <td>19073.292969</td>\n",
              "      <td>23559.962891</td>\n",
              "      <td>10953.663086</td>\n",
              "      <td>-2536.377197</td>\n",
              "      <td>25672.707031</td>\n",
              "      <td>15310.254883</td>\n",
              "      <td>3130.957275</td>\n",
              "      <td>...</td>\n",
              "      <td>-898.730530</td>\n",
              "      <td>-6388.867676</td>\n",
              "      <td>10216.211914</td>\n",
              "      <td>202.099625</td>\n",
              "      <td>12865.381836</td>\n",
              "      <td>14929.444336</td>\n",
              "      <td>10565.430664</td>\n",
              "      <td>NaN</td>\n",
              "      <td>NaN</td>\n",
              "      <td>NaN</td>\n",
              "    </tr>\n",
              "    <tr>\n",
              "      <th>1</th>\n",
              "      <td>0.001953</td>\n",
              "      <td>0</td>\n",
              "      <td>27134.962891</td>\n",
              "      <td>19064.503906</td>\n",
              "      <td>23557.130859</td>\n",
              "      <td>10950.245117</td>\n",
              "      <td>-2538.720947</td>\n",
              "      <td>25672.853516</td>\n",
              "      <td>15310.938477</td>\n",
              "      <td>3128.662354</td>\n",
              "      <td>...</td>\n",
              "      <td>-896.093811</td>\n",
              "      <td>-6385.352051</td>\n",
              "      <td>10215.577148</td>\n",
              "      <td>204.541031</td>\n",
              "      <td>12861.622070</td>\n",
              "      <td>14928.418945</td>\n",
              "      <td>10570.801758</td>\n",
              "      <td>NaN</td>\n",
              "      <td>NaN</td>\n",
              "      <td>NaN</td>\n",
              "    </tr>\n",
              "    <tr>\n",
              "      <th>2</th>\n",
              "      <td>0.003906</td>\n",
              "      <td>0</td>\n",
              "      <td>27137.355469</td>\n",
              "      <td>19068.068359</td>\n",
              "      <td>23558.058594</td>\n",
              "      <td>10951.954102</td>\n",
              "      <td>-2545.508057</td>\n",
              "      <td>25674.220703</td>\n",
              "      <td>15308.155273</td>\n",
              "      <td>3131.592041</td>\n",
              "      <td>...</td>\n",
              "      <td>-898.828186</td>\n",
              "      <td>-6385.010254</td>\n",
              "      <td>10216.993164</td>\n",
              "      <td>199.902359</td>\n",
              "      <td>12861.573242</td>\n",
              "      <td>14924.268555</td>\n",
              "      <td>10553.711914</td>\n",
              "      <td>NaN</td>\n",
              "      <td>NaN</td>\n",
              "      <td>NaN</td>\n",
              "    </tr>\n",
              "    <tr>\n",
              "      <th>3</th>\n",
              "      <td>0.005859</td>\n",
              "      <td>0</td>\n",
              "      <td>27137.404297</td>\n",
              "      <td>19064.259766</td>\n",
              "      <td>23555.714844</td>\n",
              "      <td>10945.850586</td>\n",
              "      <td>-2545.508057</td>\n",
              "      <td>25674.904297</td>\n",
              "      <td>15309.327148</td>\n",
              "      <td>3129.297119</td>\n",
              "      <td>...</td>\n",
              "      <td>-900.439514</td>\n",
              "      <td>-6387.354004</td>\n",
              "      <td>10214.063477</td>\n",
              "      <td>203.417984</td>\n",
              "      <td>12860.108398</td>\n",
              "      <td>14923.340820</td>\n",
              "      <td>10534.327148</td>\n",
              "      <td>NaN</td>\n",
              "      <td>NaN</td>\n",
              "      <td>NaN</td>\n",
              "    </tr>\n",
              "    <tr>\n",
              "      <th>4</th>\n",
              "      <td>0.007812</td>\n",
              "      <td>0</td>\n",
              "      <td>27136.183594</td>\n",
              "      <td>19072.853516</td>\n",
              "      <td>23562.160156</td>\n",
              "      <td>10953.125977</td>\n",
              "      <td>-2543.701416</td>\n",
              "      <td>25672.902344</td>\n",
              "      <td>15308.985352</td>\n",
              "      <td>3129.443604</td>\n",
              "      <td>...</td>\n",
              "      <td>-898.242249</td>\n",
              "      <td>-6382.959473</td>\n",
              "      <td>10217.383789</td>\n",
              "      <td>204.394547</td>\n",
              "      <td>12865.381836</td>\n",
              "      <td>14922.754883</td>\n",
              "      <td>10551.319336</td>\n",
              "      <td>NaN</td>\n",
              "      <td>NaN</td>\n",
              "      <td>NaN</td>\n",
              "    </tr>\n",
              "  </tbody>\n",
              "</table>\n",
              "<p>5 rows × 21 columns</p>\n",
              "</div>\n",
              "    <div class=\"colab-df-buttons\">\n",
              "\n",
              "  <div class=\"colab-df-container\">\n",
              "    <button class=\"colab-df-convert\" onclick=\"convertToInteractive('df-e1a56fe9-4fd3-41aa-b019-f916eb3cb361')\"\n",
              "            title=\"Convert this dataframe to an interactive table.\"\n",
              "            style=\"display:none;\">\n",
              "\n",
              "  <svg xmlns=\"http://www.w3.org/2000/svg\" height=\"24px\" viewBox=\"0 -960 960 960\">\n",
              "    <path d=\"M120-120v-720h720v720H120Zm60-500h600v-160H180v160Zm220 220h160v-160H400v160Zm0 220h160v-160H400v160ZM180-400h160v-160H180v160Zm440 0h160v-160H620v160ZM180-180h160v-160H180v160Zm440 0h160v-160H620v160Z\"/>\n",
              "  </svg>\n",
              "    </button>\n",
              "\n",
              "  <style>\n",
              "    .colab-df-container {\n",
              "      display:flex;\n",
              "      gap: 12px;\n",
              "    }\n",
              "\n",
              "    .colab-df-convert {\n",
              "      background-color: #E8F0FE;\n",
              "      border: none;\n",
              "      border-radius: 50%;\n",
              "      cursor: pointer;\n",
              "      display: none;\n",
              "      fill: #1967D2;\n",
              "      height: 32px;\n",
              "      padding: 0 0 0 0;\n",
              "      width: 32px;\n",
              "    }\n",
              "\n",
              "    .colab-df-convert:hover {\n",
              "      background-color: #E2EBFA;\n",
              "      box-shadow: 0px 1px 2px rgba(60, 64, 67, 0.3), 0px 1px 3px 1px rgba(60, 64, 67, 0.15);\n",
              "      fill: #174EA6;\n",
              "    }\n",
              "\n",
              "    .colab-df-buttons div {\n",
              "      margin-bottom: 4px;\n",
              "    }\n",
              "\n",
              "    [theme=dark] .colab-df-convert {\n",
              "      background-color: #3B4455;\n",
              "      fill: #D2E3FC;\n",
              "    }\n",
              "\n",
              "    [theme=dark] .colab-df-convert:hover {\n",
              "      background-color: #434B5C;\n",
              "      box-shadow: 0px 1px 3px 1px rgba(0, 0, 0, 0.15);\n",
              "      filter: drop-shadow(0px 1px 2px rgba(0, 0, 0, 0.3));\n",
              "      fill: #FFFFFF;\n",
              "    }\n",
              "  </style>\n",
              "\n",
              "    <script>\n",
              "      const buttonEl =\n",
              "        document.querySelector('#df-e1a56fe9-4fd3-41aa-b019-f916eb3cb361 button.colab-df-convert');\n",
              "      buttonEl.style.display =\n",
              "        google.colab.kernel.accessAllowed ? 'block' : 'none';\n",
              "\n",
              "      async function convertToInteractive(key) {\n",
              "        const element = document.querySelector('#df-e1a56fe9-4fd3-41aa-b019-f916eb3cb361');\n",
              "        const dataTable =\n",
              "          await google.colab.kernel.invokeFunction('convertToInteractive',\n",
              "                                                    [key], {});\n",
              "        if (!dataTable) return;\n",
              "\n",
              "        const docLinkHtml = 'Like what you see? Visit the ' +\n",
              "          '<a target=\"_blank\" href=https://colab.research.google.com/notebooks/data_table.ipynb>data table notebook</a>'\n",
              "          + ' to learn more about interactive tables.';\n",
              "        element.innerHTML = '';\n",
              "        dataTable['output_type'] = 'display_data';\n",
              "        await google.colab.output.renderOutput(dataTable, element);\n",
              "        const docLink = document.createElement('div');\n",
              "        docLink.innerHTML = docLinkHtml;\n",
              "        element.appendChild(docLink);\n",
              "      }\n",
              "    </script>\n",
              "  </div>\n",
              "\n",
              "\n",
              "<div id=\"df-a95db2c2-8c37-40a5-b6f6-4e8a6a94c32b\">\n",
              "  <button class=\"colab-df-quickchart\" onclick=\"quickchart('df-a95db2c2-8c37-40a5-b6f6-4e8a6a94c32b')\"\n",
              "            title=\"Suggest charts.\"\n",
              "            style=\"display:none;\">\n",
              "\n",
              "<svg xmlns=\"http://www.w3.org/2000/svg\" height=\"24px\"viewBox=\"0 0 24 24\"\n",
              "     width=\"24px\">\n",
              "    <g>\n",
              "        <path d=\"M19 3H5c-1.1 0-2 .9-2 2v14c0 1.1.9 2 2 2h14c1.1 0 2-.9 2-2V5c0-1.1-.9-2-2-2zM9 17H7v-7h2v7zm4 0h-2V7h2v10zm4 0h-2v-4h2v4z\"/>\n",
              "    </g>\n",
              "</svg>\n",
              "  </button>\n",
              "\n",
              "<style>\n",
              "  .colab-df-quickchart {\n",
              "      --bg-color: #E8F0FE;\n",
              "      --fill-color: #1967D2;\n",
              "      --hover-bg-color: #E2EBFA;\n",
              "      --hover-fill-color: #174EA6;\n",
              "      --disabled-fill-color: #AAA;\n",
              "      --disabled-bg-color: #DDD;\n",
              "  }\n",
              "\n",
              "  [theme=dark] .colab-df-quickchart {\n",
              "      --bg-color: #3B4455;\n",
              "      --fill-color: #D2E3FC;\n",
              "      --hover-bg-color: #434B5C;\n",
              "      --hover-fill-color: #FFFFFF;\n",
              "      --disabled-bg-color: #3B4455;\n",
              "      --disabled-fill-color: #666;\n",
              "  }\n",
              "\n",
              "  .colab-df-quickchart {\n",
              "    background-color: var(--bg-color);\n",
              "    border: none;\n",
              "    border-radius: 50%;\n",
              "    cursor: pointer;\n",
              "    display: none;\n",
              "    fill: var(--fill-color);\n",
              "    height: 32px;\n",
              "    padding: 0;\n",
              "    width: 32px;\n",
              "  }\n",
              "\n",
              "  .colab-df-quickchart:hover {\n",
              "    background-color: var(--hover-bg-color);\n",
              "    box-shadow: 0 1px 2px rgba(60, 64, 67, 0.3), 0 1px 3px 1px rgba(60, 64, 67, 0.15);\n",
              "    fill: var(--button-hover-fill-color);\n",
              "  }\n",
              "\n",
              "  .colab-df-quickchart-complete:disabled,\n",
              "  .colab-df-quickchart-complete:disabled:hover {\n",
              "    background-color: var(--disabled-bg-color);\n",
              "    fill: var(--disabled-fill-color);\n",
              "    box-shadow: none;\n",
              "  }\n",
              "\n",
              "  .colab-df-spinner {\n",
              "    border: 2px solid var(--fill-color);\n",
              "    border-color: transparent;\n",
              "    border-bottom-color: var(--fill-color);\n",
              "    animation:\n",
              "      spin 1s steps(1) infinite;\n",
              "  }\n",
              "\n",
              "  @keyframes spin {\n",
              "    0% {\n",
              "      border-color: transparent;\n",
              "      border-bottom-color: var(--fill-color);\n",
              "      border-left-color: var(--fill-color);\n",
              "    }\n",
              "    20% {\n",
              "      border-color: transparent;\n",
              "      border-left-color: var(--fill-color);\n",
              "      border-top-color: var(--fill-color);\n",
              "    }\n",
              "    30% {\n",
              "      border-color: transparent;\n",
              "      border-left-color: var(--fill-color);\n",
              "      border-top-color: var(--fill-color);\n",
              "      border-right-color: var(--fill-color);\n",
              "    }\n",
              "    40% {\n",
              "      border-color: transparent;\n",
              "      border-right-color: var(--fill-color);\n",
              "      border-top-color: var(--fill-color);\n",
              "    }\n",
              "    60% {\n",
              "      border-color: transparent;\n",
              "      border-right-color: var(--fill-color);\n",
              "    }\n",
              "    80% {\n",
              "      border-color: transparent;\n",
              "      border-right-color: var(--fill-color);\n",
              "      border-bottom-color: var(--fill-color);\n",
              "    }\n",
              "    90% {\n",
              "      border-color: transparent;\n",
              "      border-bottom-color: var(--fill-color);\n",
              "    }\n",
              "  }\n",
              "</style>\n",
              "\n",
              "  <script>\n",
              "    async function quickchart(key) {\n",
              "      const quickchartButtonEl =\n",
              "        document.querySelector('#' + key + ' button');\n",
              "      quickchartButtonEl.disabled = true;  // To prevent multiple clicks.\n",
              "      quickchartButtonEl.classList.add('colab-df-spinner');\n",
              "      try {\n",
              "        const charts = await google.colab.kernel.invokeFunction(\n",
              "            'suggestCharts', [key], {});\n",
              "      } catch (error) {\n",
              "        console.error('Error during call to suggestCharts:', error);\n",
              "      }\n",
              "      quickchartButtonEl.classList.remove('colab-df-spinner');\n",
              "      quickchartButtonEl.classList.add('colab-df-quickchart-complete');\n",
              "    }\n",
              "    (() => {\n",
              "      let quickchartButtonEl =\n",
              "        document.querySelector('#df-a95db2c2-8c37-40a5-b6f6-4e8a6a94c32b button');\n",
              "      quickchartButtonEl.style.display =\n",
              "        google.colab.kernel.accessAllowed ? 'block' : 'none';\n",
              "    })();\n",
              "  </script>\n",
              "</div>\n",
              "    </div>\n",
              "  </div>\n"
            ]
          },
          "metadata": {},
          "execution_count": 4
        }
      ]
    },
    {
      "cell_type": "markdown",
      "source": [
        "# Pré-processamento"
      ],
      "metadata": {
        "id": "iOcpzkvAWYac"
      }
    },
    {
      "cell_type": "markdown",
      "source": [
        "## Re-referenciamento: filtro CAR\n",
        "\n",
        "Ideia: referenciar cada canal em relação ao valor médio de todos os canais"
      ],
      "metadata": {
        "id": "wqbhQTgWWPO7"
      }
    },
    {
      "cell_type": "code",
      "source": [
        "means = df_eyes.iloc[:,2:18].mean(axis = 1)\n",
        "\n",
        "for ch in df_eyes.iloc[:,2:18].columns:\n",
        "  df_eyes[ch] = df_eyes[ch] - means"
      ],
      "metadata": {
        "id": "0JeUKbLMQf-i"
      },
      "execution_count": null,
      "outputs": []
    },
    {
      "cell_type": "markdown",
      "source": [
        "## Segmentação\n",
        "\n",
        "Ideia: a partir do dado completo, extrair janelas, ou épocas, do sinal, de forma a obter exemplos de treino e teste para o modelo"
      ],
      "metadata": {
        "id": "wUpI66uPWSwA"
      }
    },
    {
      "cell_type": "code",
      "source": [
        "ind_i = 0\n",
        "ind_f = 5*512\n",
        "epochs = []\n",
        "while(ind_f < len(df_eyes)):\n",
        "  epochs.append(df_eyes.iloc[ind_i:ind_f, 2:18])\n",
        "  ind_i += 5*512\n",
        "  ind_f += 5*512"
      ],
      "metadata": {
        "id": "kGcol6EoWksB"
      },
      "execution_count": null,
      "outputs": []
    },
    {
      "cell_type": "code",
      "source": [
        "np.array(epochs).shape"
      ],
      "metadata": {
        "colab": {
          "base_uri": "https://localhost:8080/"
        },
        "id": "p-_-VGoXWnBg",
        "outputId": "d088f1dd-6f94-4366-ac41-0acfcd6dc1cd"
      },
      "execution_count": null,
      "outputs": [
        {
          "output_type": "execute_result",
          "data": {
            "text/plain": [
              "(12, 2560, 16)"
            ]
          },
          "metadata": {},
          "execution_count": 6
        }
      ]
    },
    {
      "cell_type": "code",
      "source": [
        "np.array(epochs)[0]"
      ],
      "metadata": {
        "colab": {
          "base_uri": "https://localhost:8080/"
        },
        "id": "gVKisy8eY783",
        "outputId": "8dd62a6f-e8f7-4ea3-c65c-db270eec1aa5"
      },
      "execution_count": null,
      "outputs": [
        {
          "output_type": "execute_result",
          "data": {
            "text/plain": [
              "array([[16924.48233509,  8864.03311634, 13350.70303822, ...,\n",
              "         2656.12198353,  4720.18448353,   356.17081165],\n",
              "       [16926.30118275,  8855.84219837, 13348.4691515 , ...,\n",
              "         2652.96036243,  4719.75723743,   362.14004993],\n",
              "       [16930.14029408,  8860.8531847 , 13350.84341908, ...,\n",
              "         2654.35806751,  4717.05338001,   346.49673939],\n",
              "       ...,\n",
              "       [17018.66568422,  8897.57193422, 13334.68130922, ...,\n",
              "         2632.67837954,  4673.74283266,   285.16861391],\n",
              "       [17011.90604067,  8894.37674379, 13330.55838442, ...,\n",
              "         2631.33865786,  4672.35428286,   285.34256411],\n",
              "       [17011.23160219,  8891.94449282, 13329.15152407, ...,\n",
              "         2631.00601625,  4675.19546938,   288.18375063]])"
            ]
          },
          "metadata": {},
          "execution_count": 7
        }
      ]
    },
    {
      "cell_type": "markdown",
      "source": [
        "# Extração de características"
      ],
      "metadata": {
        "id": "4EEHmZFsWV1c"
      }
    },
    {
      "cell_type": "code",
      "source": [],
      "metadata": {
        "id": "cXVwQHXUZmZv"
      },
      "execution_count": null,
      "outputs": []
    },
    {
      "cell_type": "markdown",
      "source": [
        "# Classificação"
      ],
      "metadata": {
        "id": "VeGiKfAbWa_H"
      }
    },
    {
      "cell_type": "code",
      "source": [],
      "metadata": {
        "id": "PxcRlkeEWb3I"
      },
      "execution_count": null,
      "outputs": []
    }
  ]
}