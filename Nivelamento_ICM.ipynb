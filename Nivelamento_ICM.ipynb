{
  "nbformat": 4,
  "nbformat_minor": 0,
  "metadata": {
    "colab": {
      "provenance": [],
      "include_colab_link": true
    },
    "kernelspec": {
      "name": "python3",
      "display_name": "Python 3"
    },
    "language_info": {
      "name": "python"
    }
  },
  "cells": [
    {
      "cell_type": "markdown",
      "metadata": {
        "id": "view-in-github",
        "colab_type": "text"
      },
      "source": [
        "<a href=\"https://colab.research.google.com/github/seidikun/nivelamento-icm/blob/main/Nivelamento_ICM.ipynb\" target=\"_parent\"><img src=\"https://colab.research.google.com/assets/colab-badge.svg\" alt=\"Open In Colab\"/></a>"
      ]
    },
    {
      "cell_type": "markdown",
      "source": [
        "# Nivelamento do Projeto Interface Cérebro-Máquina\n",
        "\n",
        "Apresentação do projeto: https://www.canva.com/design/DAFf0Khawe4/N6qYl9Or8CU8jj_Tn20F_A/edit?utm_content=DAFf0Khawe4&utm_campaign=designshare&utm_medium=link2&utm_source=sharebutton\n"
      ],
      "metadata": {
        "id": "BwgmSxVaV5-3"
      }
    },
    {
      "cell_type": "markdown",
      "source": [
        "O Nivelamento ICM é uma forma de integrar novos membros ao projeto, iniciando com os princípio básicos de aquisição de sinais até o uso em tempo-real de uma interface cérebro-máquina"
      ],
      "metadata": {
        "id": "3__l_1OCWqrr"
      }
    },
    {
      "cell_type": "markdown",
      "source": [
        "## Objetivos\n",
        "\n",
        "É esperado que ao final do nivelamento, os participantes:\n",
        "*   Estejam confortáveis em ler e discutir artigos científicos em Neurociências e Neuroengenharia, principalmente no tema ICM\n",
        "*   Estejam confortáveis em explorar dados e realizar análises em código e/ou em implementar modelos de processamento de sinais em tempo-real\n",
        "*   Sejam capazes de colaborar no projeto ICM e escrever artigos científicos para publicação, decorrentes dos resultados do projeto\n"
      ],
      "metadata": {
        "id": "33DiKDsnXEip"
      }
    },
    {
      "cell_type": "markdown",
      "source": [
        "## Requisitos\n",
        "\n",
        "*   Ter um conhecimento mínimo de lógica de programação e python (pandas, matplotlib, numpy)\n",
        "*   Ter um conhecimento mínimo de machine learning\n",
        "*   Ter tempo para participar dos encontros semanais (1h/semana) e explorar materiais complementares como artigos científicos, cursos, livros, etc (5h/semana para mais)\n",
        "\n"
      ],
      "metadata": {
        "id": "a7ntYxwaWBPM"
      }
    },
    {
      "cell_type": "markdown",
      "source": [
        "## Planejamento\n",
        "\n",
        "O Nivelamento ICM está em constante atualização, mas por enquanto ele tenta englobar duas frentes: processamento de sinais e machine learning. As duas frentes serão dadas de forma concomitante, e a narrativa que une elas é o delineamento, condução e análise dos resultados de um experimento de interface cérebro-máquina. Os conteúdos serão introduzidos de forma gradual e de acordo com a demanda dos integrantes\n",
        "\n",
        "**Encontro 1: Do cérebro ao computador [LINK](https://colab.research.google.com/drive/13FiLsSlrHl1N8jRPDbLJF0J44631gwPU?usp=sharing)**\n",
        "\n",
        "Como um sinal produzido no nosso cérebro se torna uma variável em python?\n",
        "* Entender aquisição e digitalização de sinais\n",
        "* Discutir o que acontece durante a coleta de um sinal eletrofisiológico\n",
        "* Artigo para discussão no próximo encontro: [\"Where Does EEG Come From and What Does it Mean?\"](https://www.cell.com/trends/neurosciences/fulltext/S0166-2236(17)30024-3?_returnURL=https%3A%2F%2Flinkinghub.elsevier.com%2Fretrieve%2Fpii%2FS0166223617300243%3Fshowall%3Dtrue)\n",
        "\n",
        "**Encontro 2: Entendendo o sinal eletroencéfalográfico [LINK](https://colab.research.google.com/drive/1LCN0dmXlCNfkDxAI2DKp09efott42hnB?usp=sharing)**\n",
        "\n",
        "O que é o EEG e como interpretar ele?\n",
        "* Exploração em colab de um dado eeg já coletado\n",
        "\n",
        "**Encontro 3: Aula prática de aquisição de EEG**\n",
        "\n",
        "Posicionamento da touca, gelling, desmontagem. Protocolo: olhos abertos, olhos fechados, artefatos\n",
        "\n",
        "**Encontro 4: Análise exploratória do dado [LINK](https://colab.research.google.com/drive/1I4m3QVCn50iq7npHzDBw3Tgi4I1r0rmY?usp=sharing)**\n",
        "\n",
        "Com os dados coletados, vamos verificar padrões esperados e interpretá-los.\n",
        "\n",
        "*  Artigo para discussão na próxima aula: [\"A Tutorial on EEG Signal Processing Techniques for Mental State Recognition in Brain Computer Interfaces\"](https://link.springer.com/chapter/10.1007/978-1-4471-6584-2_7)\n",
        "\n",
        "**Encontro 5: Introdução à ICM**\n",
        "\n",
        "História, classificação de ICMs e passos básicos de processamento de EEG em tempo-real.\n",
        "\n",
        "**Encontro 6: Introdução à implementação de uma ICM**\n",
        "\n",
        "Implementação de um modelo simples e preparação de touca.\n",
        "\n",
        "**Encontro 7: Aula prática de implementação de ICM**\n",
        "\n",
        "Vamos usar um modelo simples, desenvolvido na aula anterior, e realizar uma coleta usando OpenVibe + python\n",
        "\n",
        "**Encontro 8:"
      ],
      "metadata": {
        "id": "pr3NQakXWiXd"
      }
    },
    {
      "cell_type": "code",
      "execution_count": null,
      "metadata": {
        "id": "tVAOpmgwVDj1"
      },
      "outputs": [],
      "source": []
    }
  ]
}